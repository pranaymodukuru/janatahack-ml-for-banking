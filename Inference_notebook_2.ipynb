{
 "cells": [
  {
   "cell_type": "code",
   "execution_count": 1,
   "metadata": {},
   "outputs": [],
   "source": [
    "import os\n",
    "import random\n",
    "import numpy as np\n",
    "import pandas as pd\n",
    "import matplotlib.pyplot as plt\n",
    "import seaborn as sns\n",
    "sns.set(style=\"darkgrid\")\n",
    "\n",
    "SEED = 42\n",
    "np.random.seed(SEED)\n",
    "random.seed(SEED)\n",
    "os.environ['PYTHONHASHSEED'] = str(SEED)"
   ]
  },
  {
   "cell_type": "code",
   "execution_count": 2,
   "metadata": {},
   "outputs": [
    {
     "data": {
      "text/plain": [
       "['sample_submission_HSqiq1Q.csv', 'test_fjtUOL8.csv', 'train_fNxu4vz.csv']"
      ]
     },
     "execution_count": 2,
     "metadata": {},
     "output_type": "execute_result"
    }
   ],
   "source": [
    "os.listdir(\"./data\")"
   ]
  },
  {
   "cell_type": "code",
   "execution_count": 3,
   "metadata": {},
   "outputs": [],
   "source": [
    "train = pd.read_csv(\"./data/train_fNxu4vz.csv\")\n",
    "test = pd.read_csv(\"./data/test_fjtUOL8.csv\")"
   ]
  },
  {
   "cell_type": "code",
   "execution_count": 4,
   "metadata": {},
   "outputs": [
    {
     "data": {
      "text/html": [
       "<div>\n",
       "<style scoped>\n",
       "    .dataframe tbody tr th:only-of-type {\n",
       "        vertical-align: middle;\n",
       "    }\n",
       "\n",
       "    .dataframe tbody tr th {\n",
       "        vertical-align: top;\n",
       "    }\n",
       "\n",
       "    .dataframe thead th {\n",
       "        text-align: right;\n",
       "    }\n",
       "</style>\n",
       "<table border=\"1\" class=\"dataframe\">\n",
       "  <thead>\n",
       "    <tr style=\"text-align: right;\">\n",
       "      <th></th>\n",
       "      <th>Loan_ID</th>\n",
       "      <th>Loan_Amount_Requested</th>\n",
       "      <th>Length_Employed</th>\n",
       "      <th>Home_Owner</th>\n",
       "      <th>Annual_Income</th>\n",
       "      <th>Income_Verified</th>\n",
       "      <th>Purpose_Of_Loan</th>\n",
       "      <th>Debt_To_Income</th>\n",
       "      <th>Inquiries_Last_6Mo</th>\n",
       "      <th>Months_Since_Deliquency</th>\n",
       "      <th>Number_Open_Accounts</th>\n",
       "      <th>Total_Accounts</th>\n",
       "      <th>Gender</th>\n",
       "    </tr>\n",
       "  </thead>\n",
       "  <tbody>\n",
       "    <tr>\n",
       "      <th>0</th>\n",
       "      <td>10164310</td>\n",
       "      <td>27,500</td>\n",
       "      <td>10+ years</td>\n",
       "      <td>Mortgage</td>\n",
       "      <td>129000.0</td>\n",
       "      <td>VERIFIED - income</td>\n",
       "      <td>debt_consolidation</td>\n",
       "      <td>12.87</td>\n",
       "      <td>0</td>\n",
       "      <td>68.0</td>\n",
       "      <td>10</td>\n",
       "      <td>37</td>\n",
       "      <td>Male</td>\n",
       "    </tr>\n",
       "    <tr>\n",
       "      <th>1</th>\n",
       "      <td>10164311</td>\n",
       "      <td>26,000</td>\n",
       "      <td>10+ years</td>\n",
       "      <td>NaN</td>\n",
       "      <td>110000.0</td>\n",
       "      <td>not verified</td>\n",
       "      <td>credit_card</td>\n",
       "      <td>11.37</td>\n",
       "      <td>0</td>\n",
       "      <td>NaN</td>\n",
       "      <td>6</td>\n",
       "      <td>23</td>\n",
       "      <td>Male</td>\n",
       "    </tr>\n",
       "    <tr>\n",
       "      <th>2</th>\n",
       "      <td>10164312</td>\n",
       "      <td>6,075</td>\n",
       "      <td>&lt; 1 year</td>\n",
       "      <td>Rent</td>\n",
       "      <td>75000.0</td>\n",
       "      <td>VERIFIED - income</td>\n",
       "      <td>debt_consolidation</td>\n",
       "      <td>6.83</td>\n",
       "      <td>2</td>\n",
       "      <td>NaN</td>\n",
       "      <td>5</td>\n",
       "      <td>20</td>\n",
       "      <td>Male</td>\n",
       "    </tr>\n",
       "    <tr>\n",
       "      <th>3</th>\n",
       "      <td>10164313</td>\n",
       "      <td>12,000</td>\n",
       "      <td>10+ years</td>\n",
       "      <td>Mortgage</td>\n",
       "      <td>73000.0</td>\n",
       "      <td>VERIFIED - income source</td>\n",
       "      <td>debt_consolidation</td>\n",
       "      <td>7.76</td>\n",
       "      <td>0</td>\n",
       "      <td>NaN</td>\n",
       "      <td>6</td>\n",
       "      <td>8</td>\n",
       "      <td>Male</td>\n",
       "    </tr>\n",
       "    <tr>\n",
       "      <th>4</th>\n",
       "      <td>10164314</td>\n",
       "      <td>35,000</td>\n",
       "      <td>&lt; 1 year</td>\n",
       "      <td>Mortgage</td>\n",
       "      <td>156000.0</td>\n",
       "      <td>not verified</td>\n",
       "      <td>debt_consolidation</td>\n",
       "      <td>9.62</td>\n",
       "      <td>0</td>\n",
       "      <td>26.0</td>\n",
       "      <td>9</td>\n",
       "      <td>21</td>\n",
       "      <td>Male</td>\n",
       "    </tr>\n",
       "  </tbody>\n",
       "</table>\n",
       "</div>"
      ],
      "text/plain": [
       "    Loan_ID Loan_Amount_Requested Length_Employed Home_Owner  Annual_Income  \\\n",
       "0  10164310                27,500       10+ years   Mortgage       129000.0   \n",
       "1  10164311                26,000       10+ years        NaN       110000.0   \n",
       "2  10164312                 6,075        < 1 year       Rent        75000.0   \n",
       "3  10164313                12,000       10+ years   Mortgage        73000.0   \n",
       "4  10164314                35,000        < 1 year   Mortgage       156000.0   \n",
       "\n",
       "            Income_Verified     Purpose_Of_Loan  Debt_To_Income  \\\n",
       "0         VERIFIED - income  debt_consolidation           12.87   \n",
       "1              not verified         credit_card           11.37   \n",
       "2         VERIFIED - income  debt_consolidation            6.83   \n",
       "3  VERIFIED - income source  debt_consolidation            7.76   \n",
       "4              not verified  debt_consolidation            9.62   \n",
       "\n",
       "   Inquiries_Last_6Mo  Months_Since_Deliquency  Number_Open_Accounts  \\\n",
       "0                   0                     68.0                    10   \n",
       "1                   0                      NaN                     6   \n",
       "2                   2                      NaN                     5   \n",
       "3                   0                      NaN                     6   \n",
       "4                   0                     26.0                     9   \n",
       "\n",
       "   Total_Accounts Gender  \n",
       "0              37   Male  \n",
       "1              23   Male  \n",
       "2              20   Male  \n",
       "3               8   Male  \n",
       "4              21   Male  "
      ]
     },
     "execution_count": 4,
     "metadata": {},
     "output_type": "execute_result"
    }
   ],
   "source": [
    "test.head()"
   ]
  },
  {
   "cell_type": "markdown",
   "metadata": {},
   "source": [
    "## Data Preprocessing"
   ]
  },
  {
   "cell_type": "code",
   "execution_count": 5,
   "metadata": {},
   "outputs": [],
   "source": [
    "def preprocess_data(train, test):\n",
    "    \n",
    "    # Make Loan amount into float\n",
    "    train[\"Loan_Amount_Requested\"] = train[\"Loan_Amount_Requested\"].apply(lambda x : float(x.replace(',', '')))\n",
    "    test[\"Loan_Amount_Requested\"] = test[\"Loan_Amount_Requested\"].apply(lambda x : float(x.replace(',', '')))\n",
    "\n",
    "    # Fill deliquency missin values with '0' [Assuming there is no deliquency committed]\n",
    "    train[\"Months_Since_Deliquency\"] = train[\"Months_Since_Deliquency\"].fillna(0)\n",
    "    test[\"Months_Since_Deliquency\"] = test[\"Months_Since_Deliquency\"].fillna(0)\n",
    "\n",
    "    # Replace missing income values with median value [Median of train data]\n",
    "    income_median = train.Annual_Income.median()\n",
    "    train[\"Annual_Income\"] = train[\"Annual_Income\"].fillna(income_median)\n",
    "    test[\"Annual_Income\"] = test[\"Annual_Income\"].fillna(income_median)\n",
    "\n",
    "    # Replace missing values in Home owner with most frequent in training data\n",
    "    homeowner_most_freq = train.Home_Owner.value_counts().index[0]\n",
    "    train[\"Home_Owner\"] = train[\"Home_Owner\"].fillna(homeowner_most_freq)\n",
    "    test[\"Home_Owner\"] = test[\"Home_Owner\"].fillna(homeowner_most_freq)\n",
    "\n",
    "    # Replace missing values in length employed with most frequent in training data\n",
    "    length_employed_most_freq = train.Length_Employed.value_counts().index[0]\n",
    "    train[\"Length_Employed\"] = train[\"Length_Employed\"].fillna(length_employed_most_freq)\n",
    "    test[\"Length_Employed\"] = test[\"Length_Employed\"].fillna(length_employed_most_freq)\n",
    "\n",
    "    # Change target column to categorical\n",
    "    train.Interest_Rate = train.Interest_Rate.astype(\"category\")\n",
    "    \n",
    "    return train, test\n",
    "\n",
    "train, test = preprocess_data(train, test)"
   ]
  },
  {
   "cell_type": "markdown",
   "metadata": {},
   "source": [
    "## Feature Engineering"
   ]
  },
  {
   "cell_type": "code",
   "execution_count": 6,
   "metadata": {},
   "outputs": [],
   "source": [
    "def make_length_employed_coarse(val):\n",
    "    if val in ['< 1 year']:\n",
    "        return \"fresher\"\n",
    "    elif val in ['1 year', '2 years', '3 years', '4 years']:\n",
    "        return \"less_experienced\"\n",
    "    elif val in ['5 years', '6 years', '7 years', '8 years', '9 years']:\n",
    "        return \"more_experienced\"\n",
    "    elif val in ['10+ years']:\n",
    "        return \"most_experienced\"\n",
    "\n",
    "def make_home_owner_coarse(val):\n",
    "    if val in ['Other', 'None']:\n",
    "        return \"Mortgage\"\n",
    "    else:\n",
    "        return val\n",
    "    \n",
    "def make_loan_purpose_coarse(val):\n",
    "    if val in ['debt_consolidation', 'credit_card', 'other']:\n",
    "        return val\n",
    "    elif val in ['car', 'medical', 'house', 'moving', 'wedding', 'educational', 'vacation', 'home_improvement']:\n",
    "        return \"personal\"\n",
    "    elif val in ['major_purchase', 'small_business', 'renewable_energy']:\n",
    "        return \"business\"    \n",
    "    \n",
    "\n",
    "def engineer_features(train, test):\n",
    "\n",
    "    train[\"Length_Employed_coarse\"] = train[\"Length_Employed\"].apply(make_length_employed_coarse)\n",
    "    test[\"Length_Employed_coarse\"] = test[\"Length_Employed\"].apply(make_length_employed_coarse)\n",
    "\n",
    "    train[\"Home_Owner_coarse\"] = train[\"Home_Owner\"].apply(make_home_owner_coarse)\n",
    "    test[\"Home_Owner_coarse\"] = test[\"Home_Owner\"].apply(make_home_owner_coarse)\n",
    "\n",
    "    train[\"Purpose_Of_Loan_coarse\"] = train[\"Purpose_Of_Loan\"].apply(make_loan_purpose_coarse)\n",
    "    test[\"Purpose_Of_Loan_coarse\"] = test[\"Purpose_Of_Loan\"].apply(make_loan_purpose_coarse)\n",
    "    \n",
    "    return train, test\n",
    "\n",
    "train, test = engineer_features(train, test)"
   ]
  },
  {
   "cell_type": "code",
   "execution_count": 7,
   "metadata": {},
   "outputs": [],
   "source": [
    "def prepare_for_training(train, test):\n",
    "    X_train = train.drop([\"Loan_ID\",\"Interest_Rate\"], axis=1)\n",
    "    y_train = train[\"Interest_Rate\"]\n",
    "\n",
    "    X_test = test.drop([\"Loan_ID\"], axis=1)\n",
    "    \n",
    "    X_train = pd.get_dummies(X_train, drop_first=True).values\n",
    "    X_test = pd.get_dummies(X_test, drop_first=True).values\n",
    "    \n",
    "    return X_train, y_train, X_test\n",
    "\n",
    "X_train, y_train, X_test = prepare_for_training(train, test)"
   ]
  },
  {
   "cell_type": "code",
   "execution_count": null,
   "metadata": {},
   "outputs": [],
   "source": []
  },
  {
   "cell_type": "code",
   "execution_count": 7,
   "metadata": {},
   "outputs": [],
   "source": []
  },
  {
   "cell_type": "code",
   "execution_count": 8,
   "metadata": {},
   "outputs": [],
   "source": []
  },
  {
   "cell_type": "code",
   "execution_count": null,
   "metadata": {},
   "outputs": [],
   "source": []
  },
  {
   "cell_type": "code",
   "execution_count": 9,
   "metadata": {},
   "outputs": [],
   "source": [
    "from sklearn.preprocessing import StandardScaler\n",
    "\n",
    "sc = StandardScaler()\n",
    "\n",
    "X_train = sc.fit_transform(X_train)\n",
    "X_test = sc.transform(X_test)"
   ]
  },
  {
   "cell_type": "code",
   "execution_count": null,
   "metadata": {},
   "outputs": [],
   "source": []
  },
  {
   "cell_type": "markdown",
   "metadata": {},
   "source": [
    "## Random Forest Classifier"
   ]
  },
  {
   "cell_type": "code",
   "execution_count": 10,
   "metadata": {},
   "outputs": [
    {
     "data": {
      "text/html": [
       "<div>\n",
       "<style scoped>\n",
       "    .dataframe tbody tr th:only-of-type {\n",
       "        vertical-align: middle;\n",
       "    }\n",
       "\n",
       "    .dataframe tbody tr th {\n",
       "        vertical-align: top;\n",
       "    }\n",
       "\n",
       "    .dataframe thead th {\n",
       "        text-align: right;\n",
       "    }\n",
       "</style>\n",
       "<table border=\"1\" class=\"dataframe\">\n",
       "  <thead>\n",
       "    <tr style=\"text-align: right;\">\n",
       "      <th></th>\n",
       "      <th>Interest_Rate</th>\n",
       "    </tr>\n",
       "    <tr>\n",
       "      <th>Loan_ID</th>\n",
       "      <th></th>\n",
       "    </tr>\n",
       "  </thead>\n",
       "  <tbody>\n",
       "    <tr>\n",
       "      <th>10164310</th>\n",
       "      <td>2</td>\n",
       "    </tr>\n",
       "    <tr>\n",
       "      <th>10164311</th>\n",
       "      <td>1</td>\n",
       "    </tr>\n",
       "    <tr>\n",
       "      <th>10164312</th>\n",
       "      <td>3</td>\n",
       "    </tr>\n",
       "    <tr>\n",
       "      <th>10164313</th>\n",
       "      <td>3</td>\n",
       "    </tr>\n",
       "    <tr>\n",
       "      <th>10164314</th>\n",
       "      <td>3</td>\n",
       "    </tr>\n",
       "  </tbody>\n",
       "</table>\n",
       "</div>"
      ],
      "text/plain": [
       "          Interest_Rate\n",
       "Loan_ID                \n",
       "10164310              2\n",
       "10164311              1\n",
       "10164312              3\n",
       "10164313              3\n",
       "10164314              3"
      ]
     },
     "execution_count": 10,
     "metadata": {},
     "output_type": "execute_result"
    }
   ],
   "source": [
    "from sklearn.ensemble import RandomForestClassifier\n",
    "\n",
    "rfc = RandomForestClassifier(random_state=SEED)\n",
    "rfc.fit(X_train, y_train)\n",
    "\n",
    "y_pred = rfc.predict(X_test)\n",
    "\n",
    "# Make submission file\n",
    "submission = pd.DataFrame(index=test.Loan_ID, data=y_pred)\n",
    "submission.rename(columns={0: \"Interest_Rate\"}, inplace=True)\n",
    "submission.to_csv(\"./submissions/submission_rfc.csv\")\n",
    "\n",
    "submission.head()"
   ]
  },
  {
   "cell_type": "markdown",
   "metadata": {},
   "source": [
    "## XG Boost Classifier"
   ]
  },
  {
   "cell_type": "code",
   "execution_count": 8,
   "metadata": {},
   "outputs": [
    {
     "data": {
      "text/html": [
       "<div>\n",
       "<style scoped>\n",
       "    .dataframe tbody tr th:only-of-type {\n",
       "        vertical-align: middle;\n",
       "    }\n",
       "\n",
       "    .dataframe tbody tr th {\n",
       "        vertical-align: top;\n",
       "    }\n",
       "\n",
       "    .dataframe thead th {\n",
       "        text-align: right;\n",
       "    }\n",
       "</style>\n",
       "<table border=\"1\" class=\"dataframe\">\n",
       "  <thead>\n",
       "    <tr style=\"text-align: right;\">\n",
       "      <th></th>\n",
       "      <th>Interest_Rate</th>\n",
       "    </tr>\n",
       "    <tr>\n",
       "      <th>Loan_ID</th>\n",
       "      <th></th>\n",
       "    </tr>\n",
       "  </thead>\n",
       "  <tbody>\n",
       "    <tr>\n",
       "      <th>10164310</th>\n",
       "      <td>2</td>\n",
       "    </tr>\n",
       "    <tr>\n",
       "      <th>10164311</th>\n",
       "      <td>2</td>\n",
       "    </tr>\n",
       "    <tr>\n",
       "      <th>10164312</th>\n",
       "      <td>3</td>\n",
       "    </tr>\n",
       "    <tr>\n",
       "      <th>10164313</th>\n",
       "      <td>2</td>\n",
       "    </tr>\n",
       "    <tr>\n",
       "      <th>10164314</th>\n",
       "      <td>2</td>\n",
       "    </tr>\n",
       "  </tbody>\n",
       "</table>\n",
       "</div>"
      ],
      "text/plain": [
       "          Interest_Rate\n",
       "Loan_ID                \n",
       "10164310              2\n",
       "10164311              2\n",
       "10164312              3\n",
       "10164313              2\n",
       "10164314              2"
      ]
     },
     "execution_count": 8,
     "metadata": {},
     "output_type": "execute_result"
    }
   ],
   "source": [
    "import xgboost as xgb\n",
    "\n",
    "xg_clf = xgb.XGBClassifier(random_state=SEED)\n",
    "\n",
    "xg_clf.fit(X_train, y_train)\n",
    "\n",
    "y_pred = xg_clf.predict(X_test)\n",
    "\n",
    "# Make submission file\n",
    "submission = pd.DataFrame(index=test.Loan_ID, data=y_pred)\n",
    "submission.rename(columns={0: \"Interest_Rate\"}, inplace=True)\n",
    "submission.to_csv(\"./submissions/submission_xgb.csv\")\n",
    "\n",
    "submission.head()"
   ]
  },
  {
   "cell_type": "code",
   "execution_count": 9,
   "metadata": {},
   "outputs": [],
   "source": [
    "from sklearn.model_selection import GridSearchCV"
   ]
  },
  {
   "cell_type": "code",
   "execution_count": 10,
   "metadata": {},
   "outputs": [],
   "source": [
    "\n",
    "xgb_param_grid = {\"max_depth\": [5,10,20,30],\n",
    "              \"learning_rate\": [0.01,0.1,0.5,0.9,1.],\n",
    "              \"gamma\":[0.1,0.5,1.0],\n",
    "              \"n_estimators\":[50,100,150,200]\n",
    "              }\n",
    "\n",
    "xgb_grid = GridSearchCV(estimator = xgb.XGBClassifier(objective=\"multi:softmax\", num_class=3, \n",
    "                                                            n_jobs=-1, eval_metric=\"logloss\",\n",
    "                                                            silent=1,random_state=SEED), \n",
    "                           param_grid = xgb_param_grid, \n",
    "                           scoring = \"f1_weighted\",\n",
    "                           cv = 5, n_jobs = -1, verbose=2)"
   ]
  },
  {
   "cell_type": "code",
   "execution_count": null,
   "metadata": {},
   "outputs": [
    {
     "name": "stdout",
     "output_type": "stream",
     "text": [
      "Fitting 5 folds for each of 240 candidates, totalling 1200 fits\n"
     ]
    },
    {
     "name": "stderr",
     "output_type": "stream",
     "text": [
      "[Parallel(n_jobs=-1)]: Using backend LokyBackend with 8 concurrent workers.\n"
     ]
    }
   ],
   "source": [
    "%%time\n",
    "xgb_grid.fit(X_train, y_train)\n",
    "\n",
    "best_xgb = xgb_grid.best_estimator_"
   ]
  },
  {
   "cell_type": "code",
   "execution_count": null,
   "metadata": {},
   "outputs": [],
   "source": [
    "print(\"Best Score: \", xgb_grid.best_score_)\n",
    "print(\"Best Params: \", xgb_grid.best_params_)"
   ]
  },
  {
   "cell_type": "code",
   "execution_count": null,
   "metadata": {},
   "outputs": [],
   "source": [
    "y_pred_best = best_xgb.predict(X_test)\n",
    "\n",
    "# Make submission file\n",
    "submission = pd.DataFrame(index=test.Loan_ID, data=y_pred_best)\n",
    "submission.rename(columns={0: \"Interest_Rate\"}, inplace=True)\n",
    "submission.to_csv(\"./submissions/submission_xgb.csv\")\n",
    "\n",
    "submission.head()"
   ]
  },
  {
   "cell_type": "code",
   "execution_count": null,
   "metadata": {},
   "outputs": [],
   "source": []
  }
 ],
 "metadata": {
  "kernelspec": {
   "display_name": "Python 3",
   "language": "python",
   "name": "python3"
  },
  "language_info": {
   "codemirror_mode": {
    "name": "ipython",
    "version": 3
   },
   "file_extension": ".py",
   "mimetype": "text/x-python",
   "name": "python",
   "nbconvert_exporter": "python",
   "pygments_lexer": "ipython3",
   "version": "3.7.7"
  }
 },
 "nbformat": 4,
 "nbformat_minor": 4
}
